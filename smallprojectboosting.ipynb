{
 "cells": [
  {
   "cell_type": "code",
   "execution_count": 45,
   "id": "e13c02d6-ccaf-4559-ad63-0f76d31cedbc",
   "metadata": {},
   "outputs": [],
   "source": [
    "import pandas as pd \n",
    "from sklearn.model_selection import train_test_split,GridSearchCV\n",
    "from sklearn.feature_extraction.text import TfidfVectorizer \n",
    "from sklearn.ensemble import AdaBoostClassifier\n",
    "from sklearn.metrics import accuracy_score , classification_report\n",
    "import matplotlib.pyplot as plt\n",
    "import seaborn as sns\n",
    "from sklearn.metrics import confusion_matrix"
   ]
  },
  {
   "cell_type": "code",
   "execution_count": 21,
   "id": "3807e3b3-d86a-4e04-a9e5-118532929a9f",
   "metadata": {},
   "outputs": [
    {
     "data": {
      "text/html": [
       "<div>\n",
       "<style scoped>\n",
       "    .dataframe tbody tr th:only-of-type {\n",
       "        vertical-align: middle;\n",
       "    }\n",
       "\n",
       "    .dataframe tbody tr th {\n",
       "        vertical-align: top;\n",
       "    }\n",
       "\n",
       "    .dataframe thead th {\n",
       "        text-align: right;\n",
       "    }\n",
       "</style>\n",
       "<table border=\"1\" class=\"dataframe\">\n",
       "  <thead>\n",
       "    <tr style=\"text-align: right;\">\n",
       "      <th></th>\n",
       "      <th>text</th>\n",
       "      <th>spam</th>\n",
       "    </tr>\n",
       "  </thead>\n",
       "  <tbody>\n",
       "    <tr>\n",
       "      <th>0</th>\n",
       "      <td>Subject: naturally irresistible your corporate...</td>\n",
       "      <td>1</td>\n",
       "    </tr>\n",
       "    <tr>\n",
       "      <th>1</th>\n",
       "      <td>Subject: the stock trading gunslinger  fanny i...</td>\n",
       "      <td>1</td>\n",
       "    </tr>\n",
       "    <tr>\n",
       "      <th>2</th>\n",
       "      <td>Subject: unbelievable new homes made easy  im ...</td>\n",
       "      <td>1</td>\n",
       "    </tr>\n",
       "    <tr>\n",
       "      <th>3</th>\n",
       "      <td>Subject: 4 color printing special  request add...</td>\n",
       "      <td>1</td>\n",
       "    </tr>\n",
       "    <tr>\n",
       "      <th>4</th>\n",
       "      <td>Subject: do not have money , get software cds ...</td>\n",
       "      <td>1</td>\n",
       "    </tr>\n",
       "    <tr>\n",
       "      <th>...</th>\n",
       "      <td>...</td>\n",
       "      <td>...</td>\n",
       "    </tr>\n",
       "    <tr>\n",
       "      <th>5723</th>\n",
       "      <td>Subject: re : research and development charges...</td>\n",
       "      <td>0</td>\n",
       "    </tr>\n",
       "    <tr>\n",
       "      <th>5724</th>\n",
       "      <td>Subject: re : receipts from visit  jim ,  than...</td>\n",
       "      <td>0</td>\n",
       "    </tr>\n",
       "    <tr>\n",
       "      <th>5725</th>\n",
       "      <td>Subject: re : enron case study update  wow ! a...</td>\n",
       "      <td>0</td>\n",
       "    </tr>\n",
       "    <tr>\n",
       "      <th>5726</th>\n",
       "      <td>Subject: re : interest  david ,  please , call...</td>\n",
       "      <td>0</td>\n",
       "    </tr>\n",
       "    <tr>\n",
       "      <th>5727</th>\n",
       "      <td>Subject: news : aurora 5 . 2 update  aurora ve...</td>\n",
       "      <td>0</td>\n",
       "    </tr>\n",
       "  </tbody>\n",
       "</table>\n",
       "<p>5728 rows × 2 columns</p>\n",
       "</div>"
      ],
      "text/plain": [
       "                                                   text  spam\n",
       "0     Subject: naturally irresistible your corporate...     1\n",
       "1     Subject: the stock trading gunslinger  fanny i...     1\n",
       "2     Subject: unbelievable new homes made easy  im ...     1\n",
       "3     Subject: 4 color printing special  request add...     1\n",
       "4     Subject: do not have money , get software cds ...     1\n",
       "...                                                 ...   ...\n",
       "5723  Subject: re : research and development charges...     0\n",
       "5724  Subject: re : receipts from visit  jim ,  than...     0\n",
       "5725  Subject: re : enron case study update  wow ! a...     0\n",
       "5726  Subject: re : interest  david ,  please , call...     0\n",
       "5727  Subject: news : aurora 5 . 2 update  aurora ve...     0\n",
       "\n",
       "[5728 rows x 2 columns]"
      ]
     },
     "execution_count": 21,
     "metadata": {},
     "output_type": "execute_result"
    }
   ],
   "source": [
    "df1=pd.read_csv(r\"/Users/mohammadehsan/Desktop/emails 2.csv\")\n",
    "df1"
   ]
  },
  {
   "cell_type": "code",
   "execution_count": 22,
   "id": "26de3efe-a20e-455e-9408-a2f5947dab2d",
   "metadata": {},
   "outputs": [
    {
     "name": "stdout",
     "output_type": "stream",
     "text": [
      "<class 'pandas.core.frame.DataFrame'>\n",
      "RangeIndex: 5728 entries, 0 to 5727\n",
      "Data columns (total 2 columns):\n",
      " #   Column  Non-Null Count  Dtype \n",
      "---  ------  --------------  ----- \n",
      " 0   text    5728 non-null   object\n",
      " 1   spam    5728 non-null   int64 \n",
      "dtypes: int64(1), object(1)\n",
      "memory usage: 89.6+ KB\n"
     ]
    }
   ],
   "source": [
    "df1.head(10)\n",
    "df1.info()"
   ]
  },
  {
   "cell_type": "code",
   "execution_count": 19,
   "id": "67bffb90-2e3f-40c2-8d21-b75bbac3b435",
   "metadata": {},
   "outputs": [
    {
     "name": "stdout",
     "output_type": "stream",
     "text": [
      "<Compressed Sparse Row sparse matrix of dtype 'float64'\n",
      "\twith 406880 stored elements and shape (4582, 36996)>\n",
      "  Coords\tValues\n",
      "  (0, 32145)\t0.028795580637893916\n",
      "  (0, 9223)\t0.030097380860261005\n",
      "  (0, 18103)\t0.024272927660220458\n",
      "  (0, 36658)\t0.04254969805722367\n",
      "  (0, 5160)\t0.17902648976086996\n",
      "  (0, 14973)\t0.03579329525241748\n",
      "  (0, 28530)\t0.13539402085630106\n",
      "  (0, 8795)\t0.03347849476779379\n",
      "  (0, 426)\t0.05226976693183423\n",
      "  (0, 30257)\t0.03458889458110556\n",
      "  (0, 23878)\t0.0607120789034469\n",
      "  (0, 35257)\t0.04204439576633724\n",
      "  (0, 14883)\t0.028555177467080438\n",
      "  (0, 9979)\t0.028713431970634917\n",
      "  (0, 22220)\t0.04180138210587513\n",
      "  (0, 26971)\t0.053519071007064704\n",
      "  (0, 27889)\t0.032948921810938614\n",
      "  (0, 20622)\t0.04071359367376036\n",
      "  (0, 91)\t0.10848896413792576\n",
      "  (0, 31232)\t0.03800598278591726\n",
      "  (0, 902)\t0.04183213605441311\n",
      "  (0, 1470)\t0.0429740114243568\n",
      "  (0, 31832)\t0.04957312691746929\n",
      "  (0, 25226)\t0.26665652447187943\n",
      "  (0, 4525)\t0.0553016820229254\n",
      "  :\t:\n",
      "  (4581, 26847)\t0.11864084739049738\n",
      "  (4581, 31172)\t0.1419700749037697\n",
      "  (4581, 36316)\t0.08811072340341894\n",
      "  (4581, 16821)\t0.07957150114159875\n",
      "  (4581, 24833)\t0.1463545242453216\n",
      "  (4581, 20728)\t0.09399171720382854\n",
      "  (4581, 18792)\t0.13300953628320372\n",
      "  (4581, 36300)\t0.15055866053485262\n",
      "  (4581, 26241)\t0.1296294195479361\n",
      "  (4581, 35372)\t0.4660949361123157\n",
      "  (4581, 32221)\t0.1150282252727485\n",
      "  (4581, 33640)\t0.12734236661440462\n",
      "  (4581, 29597)\t0.16225821820562142\n",
      "  (4581, 19568)\t0.11646586848314183\n",
      "  (4581, 21530)\t0.16887299089371763\n",
      "  (4581, 10818)\t0.11549911658962778\n",
      "  (4581, 36063)\t0.16359647120302695\n",
      "  (4581, 17811)\t0.1511368189337354\n",
      "  (4581, 17700)\t0.18549853560690827\n",
      "  (4581, 10217)\t0.19049938719297493\n",
      "  (4581, 9806)\t0.18260862883394394\n",
      "  (4581, 7367)\t0.20774133415068027\n",
      "  (4581, 30800)\t0.20774133415068027\n",
      "  (4581, 24681)\t0.19900654779652063\n",
      "  (4581, 26595)\t0.20162078646486095\n",
      "4860    0\n",
      "1520    0\n",
      "2083    0\n",
      "527     1\n",
      "3113    0\n",
      "       ..\n",
      "3772    0\n",
      "5191    0\n",
      "5226    0\n",
      "5390    0\n",
      "860     1\n",
      "Name: spam, Length: 4582, dtype: int64\n"
     ]
    }
   ],
   "source": [
    "X=df1[\"text\"]\n",
    "y=df1[\"spam\"]\n",
    "\n",
    "vectorize=TfidfVectorizer(stop_words=\"english\")\n",
    "X_vectorize=vectorize.fit_transform(X)\n",
    "\n",
    "X_train,X_test,y_train,y_test=train_test_split(X_vectorize,y,test_size=0.2,random_state=42)\n",
    "print(X_train)\n",
    "print(y_train)\n"
   ]
  },
  {
   "cell_type": "code",
   "execution_count": 31,
   "id": "2a183557-323a-4cab-b00a-98fd535a8060",
   "metadata": {},
   "outputs": [
    {
     "name": "stdout",
     "output_type": "stream",
     "text": [
      "accuracy is :0.9616055846422339\n",
      "classification_report is:              precision    recall  f1-score   support\n",
      "\n",
      "           0       0.96      0.99      0.97       856\n",
      "           1       0.96      0.88      0.92       290\n",
      "\n",
      "    accuracy                           0.96      1146\n",
      "   macro avg       0.96      0.94      0.95      1146\n",
      "weighted avg       0.96      0.96      0.96      1146\n",
      "\n"
     ]
    }
   ],
   "source": [
    "model=AdaBoostClassifier(n_estimators=100,random_state=42)\n",
    "# استفاده کردن داده های X_train,y_train برای داده های مدل \n",
    "model.fit(X_train,y_train)\n",
    "# پیش بینی روی داده های تست \n",
    "y_pred=model.predict(X_test)\n",
    "print(f\"accuracy is :{accuracy_score(y_test,y_pred)}\")\n",
    "print(f\"classification_report is:{classification_report(y_test,y_pred)}\")\n"
   ]
  },
  {
   "cell_type": "code",
   "execution_count": 36,
   "id": "685968f3-5886-4038-9760-f5865f378f3a",
   "metadata": {},
   "outputs": [
    {
     "name": "stdout",
     "output_type": "stream",
     "text": [
      "Best parameters found by GridSearchCV: {'learning_rate': 1.5, 'n_estimators': 200}\n",
      "Accuracy is: 0.9817\n",
      "Classification Report:\n",
      "              precision    recall  f1-score   support\n",
      "\n",
      "           0       0.99      0.99      0.99       856\n",
      "           1       0.97      0.96      0.96       290\n",
      "\n",
      "    accuracy                           0.98      1146\n",
      "   macro avg       0.98      0.98      0.98      1146\n",
      "weighted avg       0.98      0.98      0.98      1146\n",
      "\n"
     ]
    }
   ],
   "source": [
    "param_grid={\n",
    "    \"n_estimators\":[50,100,200],\n",
    "    \"learning_rate\":[0.5,1.0,1.5]\n",
    "}\n",
    "\n",
    "grid=GridSearchCV(estimator=model,param_grid=param_grid,cv=5,scoring=\"accuracy\",n_jobs=-1)\n",
    "grid.fit(X_train,y_train)\n",
    "best_model=grid.best_estimator_\n",
    "print(\"Best parameters found by GridSearchCV:\", grid.best_params_)\n",
    "y_pred = best_model.predict(X_test)\n",
    "print(f\"Accuracy is: {accuracy_score(y_test, y_pred):.4f}\")\n",
    "print(\"Classification Report:\")\n",
    "print(classification_report(y_test, y_pred))"
   ]
  },
  {
   "cell_type": "code",
   "execution_count": 50,
   "id": "b67efcb3-6783-435e-84a9-7873ca5e5fbe",
   "metadata": {},
   "outputs": [
    {
     "data": {
      "image/png": "[encoded data removed]",
      "text/plain": [
       "<Figure size 640x480 with 1 Axes>"
      ]
     },
     "metadata": {},
     "output_type": "display_data"
    }
   ],
   "source": [
    "y.value_counts().plot(kind='bar', color=['skyblue', 'orange'])\n",
    "plt.title(\"tosie email ha\")\n",
    "plt.xticks([0,1],[\"spam\",\"normal\"],rotation=0)\n",
    "plt.ylabel(\"email_counts\")\n",
    "plt.show()"
   ]
  },
  {
   "cell_type": "code",
   "execution_count": 54,
   "id": "fedfd20f-d9ce-4ebb-b44d-19e1312ce8a3",
   "metadata": {},
   "outputs": [
    {
     "data": {
      "image/png": "[encoded data removed]",
      "text/plain": [
       "<Figure size 640x480 with 2 Axes>"
      ]
     },
     "metadata": {},
     "output_type": "display_data"
    }
   ],
   "source": [
    "# confusion_matrix\n",
    "cm=confusion_matrix(y_test,y_pred)\n",
    "sns.heatmap(cm,annot=True,fmt=\"d\",cmap=\"Blues\",xticklabels=[\"spam\",\"normal\"],yticklabels=[\"spam\",\"normal\"])\n",
    "plt.xlabel(\"predict_data\")\n",
    "plt.ylabel(\"true_data\")\n",
    "plt.title(\"ConfusionMatrix\")\n",
    "plt.show()\n"
   ]
  },
  {
   "cell_type": "code",
   "execution_count": null,
   "id": "fce4d62a-a78b-4012-b470-8530c8dc7378",
   "metadata": {},
   "outputs": [],
   "source": []
  },
  {
   "cell_type": "code",
   "execution_count": null,
   "id": "4fee3830-228d-44ff-82a3-3f577ce73c2c",
   "metadata": {},
   "outputs": [],
   "source": []
  }
 ],
 "metadata": {
  "kernelspec": {
   "display_name": "Python 3 (ipykernel)",
   "language": "python",
   "name": "python3"
  },
  "language_info": {
   "codemirror_mode": {
    "name": "ipython",
    "version": 3
   },
   "file_extension": ".py",
   "mimetype": "text/x-python",
   "name": "python",
   "nbconvert_exporter": "python",
   "pygments_lexer": "ipython3",
   "version": "3.13.5"
  }
 },
 "nbformat": 4,
 "nbformat_minor": 5
}
